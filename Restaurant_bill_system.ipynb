{
 "cells": [
  {
   "cell_type": "code",
   "execution_count": null,
   "id": "34cdaf2b",
   "metadata": {},
   "outputs": [],
   "source": []
  },
  {
   "cell_type": "code",
   "execution_count": 16,
   "id": "7bb60903",
   "metadata": {},
   "outputs": [
    {
     "name": "stdout",
     "output_type": "stream",
     "text": [
      "\t\t\t\t\t\t\tABC RESTAURANT\n",
      "Bill no.101\n",
      "Customer NameRajesh\n",
      "Mobile number892347238\n",
      "want to add more items in abill press Y or Ny\n",
      "press code1\n",
      "quantity2\n",
      "\t\t\t\t\t\t\tsandwich\t\t\t\t\t\t 2 X 90 =180\n",
      "want to add more items in abill press Y or Ny\n",
      "press code2\n",
      "quantity4\n",
      "\t\t\t\t\t\t\tDosa \t\t\t\t\t\t\t4 X 110 =440\n",
      "want to add more items in abill press Y or Nn\n",
      "\n",
      "\n",
      "\n",
      "\n",
      "\n",
      "\n",
      "\n",
      "\t\t\t\t\t\t\tABC RESTAURANT\n",
      "\t\t\t\t\t\t\t   Cash Memo\n",
      "\t\t\t\t\tCustomer name :- Rajesh     Mobile no. 892347238 \n",
      "\n",
      "\n",
      "\n",
      "\t\t\t\t\t\t\t\t\t\t\t\t\t  Bill       620\n",
      "\t\t\t\t\t\t\t\t\t\t\t\t\t +GST Bill    111.6\n",
      "\n",
      "\t\t\t\t\t\t\t\t\t\t\t\t\t Total Bill   731.6\n",
      "\t\t\t\t\t\t\tVIST AGAIN\n"
     ]
    }
   ],
   "source": [
    "import time as t\n",
    "class Menu:\n",
    "    cv_sand=0\n",
    "    cv_dosa=0\n",
    "    def __init__(self,bill_no,name,mobile):\n",
    "        self.name=name\n",
    "    \n",
    "    def menu_list(self,code):\n",
    "        if code==1:\n",
    "            var_1=90\n",
    "            #print(f\"sandwich\\t\\t\\t\\t\\t {var_1}\")\n",
    "            qt_sand=int(input(\"quantity\"))\n",
    "            self.cv_sand=(qt_sand*90)+ self.cv_sand\n",
    "            print(f\"\\t\\t\\t\\t\\t\\t\\tsandwich\\t\\t\\t\\t\\t\\t {qt_sand} X {var_1} ={self.cv_sand}\" )\n",
    "            \n",
    "        elif code==2:\n",
    "            var_2=110\n",
    "            #print(f\"sandwich\\t\\t\\t\\t\\t {var_1}\")\n",
    "            qt_dosa=int(input(\"quantity\"))\n",
    "            self.cv_dosa=(qt_dosa*110)+self.cv_dosa\n",
    "            print(f\"\\t\\t\\t\\t\\t\\t\\tDosa \\t\\t\\t\\t\\t\\t\\t{qt_dosa} X {var_2} ={self.cv_dosa}\" )\n",
    "    def total_bill(self):\n",
    "        totalbill=self.cv_sand+self.cv_dosa\n",
    "        print(f\"\\t\\t\\t\\t\\tCustomer name :- {name}     Mobile no. {mobile} \")\n",
    "        print(\"\\n\\n\")\n",
    "        print(f\"\\t\\t\\t\\t\\t\\t\\t\\t\\t\\t\\t\\t\\t  Bill       {totalbill}\")\n",
    "        gst=((totalbill*18)/100)\n",
    "        print(f\"\\t\\t\\t\\t\\t\\t\\t\\t\\t\\t\\t\\t\\t +GST Bill    {gst}\\n\")\n",
    "        bill=gst+totalbill\n",
    "        print(f\"\\t\\t\\t\\t\\t\\t\\t\\t\\t\\t\\t\\t\\t Total Bill   {bill}\")\n",
    "        \n",
    "    \n",
    "\n",
    "print(\"\\t\\t\\t\\t\\t\\t\\tABC RESTAURANT\")       \n",
    "bill_no=int(input(\"Bill no.\"))\n",
    "name=input(\"Customer Name\")\n",
    "mobile=int(input(\"Mobile number\"))\n",
    "obj=Menu(bill_no,name,mobile)\n",
    "while True:   \n",
    "    \n",
    "    var_2=input(\"want to add more items in abill press Y or N\")\n",
    "    if var_2=='Y' or var_2=='y':\n",
    "        var=int(input(\"press code\"))\n",
    "        obj.menu_list(var)\n",
    "    elif var_2=='N' or var_2=='n':\n",
    "        t.sleep(2)\n",
    "        print(\"\\n\\n\\n\\n\\n\\n\")\n",
    "        print(\"\\t\\t\\t\\t\\t\\t\\tABC RESTAURANT\\n\\t\\t\\t\\t\\t\\t\\t   Cash Memo\")\n",
    "        obj.total_bill()\n",
    "        print(\"\\t\\t\\t\\t\\t\\t\\tVIST AGAIN\")\n",
    "\n",
    "        break\n",
    "    else:\n",
    "        break\n",
    "\n",
    "    \n",
    "\n",
    "\n",
    "        "
   ]
  },
  {
   "cell_type": "code",
   "execution_count": 2,
   "id": "6998298c",
   "metadata": {},
   "outputs": [
    {
     "name": "stdout",
     "output_type": "stream",
     "text": [
      "118.0\n"
     ]
    }
   ],
   "source": [
    "totalbill=100\n",
    "gst=((totalbill*18)/100)\n",
    "bill=gst+totalbill\n",
    "print(bill)"
   ]
  },
  {
   "cell_type": "code",
   "execution_count": 3,
   "id": "95c437fb",
   "metadata": {},
   "outputs": [
    {
     "name": "stdout",
     "output_type": "stream",
     "text": [
      "\t\t\t\t\t\t\tsandwich\t\t\t\t\t\t 2 X 90 =180\n"
     ]
    }
   ],
   "source": [
    "print(f\"\\t\\t\\t\\t\\t\\t\\tsandwich\\t\\t\\t\\t\\t\\t {2} X {90} ={180}\" )"
   ]
  },
  {
   "cell_type": "code",
   "execution_count": null,
   "id": "e7946b3a",
   "metadata": {},
   "outputs": [],
   "source": []
  }
 ],
 "metadata": {
  "kernelspec": {
   "display_name": "Python 3 (ipykernel)",
   "language": "python",
   "name": "python3"
  },
  "language_info": {
   "codemirror_mode": {
    "name": "ipython",
    "version": 3
   },
   "file_extension": ".py",
   "mimetype": "text/x-python",
   "name": "python",
   "nbconvert_exporter": "python",
   "pygments_lexer": "ipython3",
   "version": "3.11.3"
  }
 },
 "nbformat": 4,
 "nbformat_minor": 5
}
